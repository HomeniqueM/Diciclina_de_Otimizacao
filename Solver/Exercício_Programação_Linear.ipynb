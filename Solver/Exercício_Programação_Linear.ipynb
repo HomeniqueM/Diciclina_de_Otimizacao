{
  "nbformat": 4,
  "nbformat_minor": 0,
  "metadata": {
    "colab": {
      "provenance": [],
      "include_colab_link": true
    },
    "kernelspec": {
      "name": "python3",
      "display_name": "Python 3"
    }
  },
  "cells": [
    {
      "cell_type": "markdown",
      "metadata": {
        "id": "view-in-github",
        "colab_type": "text"
      },
      "source": [
        "<a href=\"https://colab.research.google.com/github/HomeniqueM/Disciplina_de_Otimizacao/blob/master/Solver/Exerc%C3%ADcio_Programa%C3%A7%C3%A3o_Linear.ipynb\" target=\"_parent\"><img src=\"https://colab.research.google.com/assets/colab-badge.svg\" alt=\"Open In Colab\"/></a>"
      ]
    },
    {
      "cell_type": "markdown",
      "metadata": {
        "id": "5DtA-hCfS8UZ"
      },
      "source": [
        "Instalação de Pacotes para otimização/aprendizado de máquina"
      ]
    },
    {
      "cell_type": "code",
      "metadata": {
        "id": "VbTYpv8gSFyQ"
      },
      "source": [
        "! pip install -q numpy scipy pandas scikit-image scikit-learn cvxpy cvxopt"
      ],
      "execution_count": 1,
      "outputs": []
    },
    {
      "cell_type": "markdown",
      "metadata": {
        "id": "1hRh4X-aSHA5"
      },
      "source": [
        "Exercício de Programação Linear\n",
        "\n",
        "Maximizar Z = 3X1 + 5X2\n",
        "\n",
        "    \t\t     Sujeito a:\n",
        "\t\t\t\t          1X1 ≤ 4\n",
        "\t\t\t\t          1X2 ≤ 8\n",
        "\t\t\t\t        3X1 + 2X2 ≤ 18\n",
        "\t\t\t\t        X1, X2 ≥ 0"
      ]
    },
    {
      "cell_type": "code",
      "metadata": {
        "colab": {
          "base_uri": "https://localhost:8080/"
        },
        "id": "B47BBJw_TSeb",
        "outputId": "c9d03365-9255-44c7-a099-7aec581b72b0"
      },
      "source": [
        "from scipy.optimize import linprog\n",
        "\n",
        "#Modelo 1\n",
        "\n",
        "c = [-3, -5] # coeficientes da função objetivo\n",
        "A = [[3, 2]] #matriz de coeficientes das restrições\n",
        "b = [18] #termos independentes \n",
        "\n",
        "\n",
        "x1_bounds = (0, 4) # 0 <= x1 <= 4\n",
        "x2_bounds = (0, 8) # 0< = x2 <= 6\n",
        "\n",
        "\n",
        "\n",
        "# Método padrão: simplex.\n",
        "\n",
        "res = linprog(c, A_ub=A, b_ub=b, bounds=(x1_bounds, x2_bounds), method='simplex',\n",
        "               options={\"disp\": True})\n",
        "\n",
        "print(res)"
      ],
      "execution_count": 4,
      "outputs": [
        {
          "output_type": "stream",
          "name": "stdout",
          "text": [
            "Optimization terminated successfully.\n",
            "         Current function value: -42.000000  \n",
            "         Iterations: 3\n",
            "     con: array([], dtype=float64)\n",
            "     fun: -42.0\n",
            " message: 'Optimization terminated successfully.'\n",
            "     nit: 3\n",
            "   slack: array([0.])\n",
            "  status: 0\n",
            " success: True\n",
            "       x: array([0.66666667, 8.        ])\n"
          ]
        }
      ]
    },
    {
      "cell_type": "markdown",
      "metadata": {
        "id": "rOIbUq_dSo8I"
      },
      "source": [
        "**Exercício** 2\n",
        "\n",
        "Minimizar Z = 16X1 + 12X2 + 5X3\n",
        "  \n",
        "  Sujeito a:\n",
        "\n",
        "  \t\t\t8X1 + 4X2 + 4X3 ≥ 16 \n",
        "  \t\t\t4X1 + 6X2       ≥ 12\n",
        "  \t\t\t X1, X2, X3 ≥ 0\n"
      ]
    },
    {
      "cell_type": "markdown",
      "metadata": {
        "id": "k14G7IIGKZzL"
      },
      "source": [
        "Para mais informações sobre a bibliotecas/funções de otimização  acesse: https://docs.scipy.org/doc/scipy/reference/optimize.linprog-simplex.html\n"
      ]
    },
    {
      "cell_type": "code",
      "metadata": {
        "id": "u_rE-n4DTNwo",
        "colab": {
          "base_uri": "https://localhost:8080/"
        },
        "outputId": "a5958ee7-4702-43c3-8629-96c5146d7102"
      },
      "source": [
        "# Modelo 2\n",
        "\n",
        "# 16x_1+ 12_x2 +5_x3 == Minimizar == -16x_1 -12_x2 -5_x3\n",
        "c = [16, 12,5] # coeficientes da função objetivo\n",
        "A = [[-8, -4,-4],[-4,-6,0]] #matriz de coeficientes das restrições\n",
        "b = [-16,-12] #termos independentes \n",
        "\n",
        "\n",
        "x1_bounds = (0,float(\"inf\"))  # 0 <= x1 \n",
        "x2_bounds = (0,float(\"inf\"))  # 0 <= x2 \n",
        "x3_bounds = (0,float(\"inf\"))  # 0 <= x3\n",
        "\n",
        "\n",
        "# Método padrão: simplex.\n",
        "\n",
        "res = linprog(c, A_ub=A, b_ub=b, bounds=(x1_bounds, x2_bounds,x3_bounds), method='simplex',\n",
        "               options={\"disp\": True})\n",
        "\n",
        "print(res)"
      ],
      "execution_count": 10,
      "outputs": [
        {
          "output_type": "stream",
          "name": "stdout",
          "text": [
            "Optimization terminated successfully.\n",
            "         Current function value: 34.000000   \n",
            "         Iterations: 3\n",
            "     con: array([], dtype=float64)\n",
            "     fun: 34.0\n",
            " message: 'Optimization terminated successfully.'\n",
            "     nit: 3\n",
            "   slack: array([0., 0.])\n",
            "  status: 0\n",
            " success: True\n",
            "       x: array([0., 2., 2.])\n"
          ]
        }
      ]
    }
  ]
}