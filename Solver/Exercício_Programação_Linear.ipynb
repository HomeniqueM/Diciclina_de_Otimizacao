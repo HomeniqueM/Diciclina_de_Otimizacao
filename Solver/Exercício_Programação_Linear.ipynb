{
  "nbformat": 4,
  "nbformat_minor": 0,
  "metadata": {
    "colab": {
      "provenance": [],
      "include_colab_link": true
    },
    "kernelspec": {
      "name": "python3",
      "display_name": "Python 3"
    }
  },
  "cells": [
    {
      "cell_type": "markdown",
      "metadata": {
        "id": "view-in-github",
        "colab_type": "text"
      },
      "source": [
        "<a href=\"https://colab.research.google.com/github/HomeniqueM/Disciplina_de_Otimizacao/blob/master/Solver/Exerc%C3%ADcio_Programa%C3%A7%C3%A3o_Linear.ipynb\" target=\"_parent\"><img src=\"https://colab.research.google.com/assets/colab-badge.svg\" alt=\"Open In Colab\"/></a>"
      ]
    },
    {
      "cell_type": "markdown",
      "metadata": {
        "id": "5DtA-hCfS8UZ"
      },
      "source": [
        "Instalação de Pacotes para otimização/aprendizado de máquina"
      ]
    },
    {
      "cell_type": "code",
      "metadata": {
        "id": "VbTYpv8gSFyQ"
      },
      "source": [
        "! pip install -q numpy scipy pandas scikit-image scikit-learn cvxpy cvxopt"
      ],
      "execution_count": 1,
      "outputs": []
    },
    {
      "cell_type": "markdown",
      "metadata": {
        "id": "1hRh4X-aSHA5"
      },
      "source": [
        "Exercício de Programação Linear\n",
        "\n",
        "Maximizar Z = 3X1 + 5X2\n",
        "\n",
        "    \t\t     Sujeito a:\n",
        "\t\t\t\t          1X1 ≤ 4\n",
        "\t\t\t\t          1X2 ≤ 8\n",
        "\t\t\t\t        3X1 + 2X2 ≤ 18\n",
        "\t\t\t\t        X1, X2 ≥ 0"
      ]
    },
    {
      "cell_type": "code",
      "metadata": {
        "colab": {
          "base_uri": "https://localhost:8080/"
        },
        "id": "B47BBJw_TSeb",
        "outputId": "56ee6634-77f3-4010-e81a-2fac2e4cca9a"
      },
      "source": [
        "from scipy.optimize import linprog\n",
        "\n",
        "#Modelo 1\n",
        "\n",
        "c = [-3, -5] # coeficientes da função objetivo\n",
        "A = [[3, 2]] #matriz de coeficientes das restrições\n",
        "b = [18] #termos independentes \n",
        "\n",
        "\n",
        "x1_bounds = (0, 4) # 0 <= x1 <= 4\n",
        "x2_bounds = (0, 8) # 0 <= x2 <= 6\n",
        "\n",
        "\n",
        "\n",
        "# Método padrão: simplex.\n",
        "\n",
        "res = linprog(c, A_ub=A, b_ub=b, bounds=(x1_bounds, x2_bounds), method='simplex',\n",
        "               options={\"disp\": True})\n",
        "\n",
        "print(res)"
      ],
      "execution_count": 2,
      "outputs": [
        {
          "output_type": "stream",
          "name": "stdout",
          "text": [
            "Optimization terminated successfully.\n",
            "         Current function value: -42.000000  \n",
            "         Iterations: 3\n",
            "     con: array([], dtype=float64)\n",
            "     fun: -42.0\n",
            " message: 'Optimization terminated successfully.'\n",
            "     nit: 3\n",
            "   slack: array([0.])\n",
            "  status: 0\n",
            " success: True\n",
            "       x: array([0.66666667, 8.        ])\n"
          ]
        }
      ]
    },
    {
      "cell_type": "markdown",
      "metadata": {
        "id": "rOIbUq_dSo8I"
      },
      "source": [
        "**Exercício** 2\n",
        "\n",
        "Minimizar Z = 16X1 + 12X2 + 5X3\n",
        "  \n",
        "  Sujeito a:\n",
        "\n",
        "  \t\t\t8X1 + 4X2 + 4X3 ≥ 16 \n",
        "  \t\t\t4X1 + 6X2       ≥ 12\n",
        "  \t\t\t X1, X2, X3 ≥ 0\n"
      ]
    },
    {
      "cell_type": "markdown",
      "metadata": {
        "id": "k14G7IIGKZzL"
      },
      "source": [
        "Para mais informações sobre a bibliotecas/funções de otimização  acesse: https://docs.scipy.org/doc/scipy/reference/optimize.linprog-simplex.html\n"
      ]
    },
    {
      "cell_type": "code",
      "metadata": {
        "id": "u_rE-n4DTNwo",
        "colab": {
          "base_uri": "https://localhost:8080/"
        },
        "outputId": "0d06b896-e806-4b73-bc33-acddd7bf7073"
      },
      "source": [
        "# Modelo 2\n",
        "\n",
        "# 16x_1+ 12_x2 +5_x3 == Minimizar == -16x_1 -12_x2 -5_x3\n",
        "c = [16, 12,5] # coeficientes da função objetivo\n",
        "A = [[-8, -4,-4],[-4,-6,0]] #matriz de coeficientes das restrições\n",
        "b = [-16,-12] #termos independentes \n",
        "\n",
        "\n",
        "x1_bounds = (0,float(\"inf\"))  # 0 <= x1 \n",
        "x2_bounds = (0,float(\"inf\"))  # 0 <= x2 \n",
        "x3_bounds = (0,float(\"inf\"))  # 0 <= x3\n",
        "\n",
        "\n",
        "# Método padrão: simplex.\n",
        "\n",
        "res = linprog(c, A_ub=A, b_ub=b, bounds=(x1_bounds, x2_bounds,x3_bounds), method='simplex',\n",
        "               options={\"disp\": True})\n",
        "\n",
        "print(res)"
      ],
      "execution_count": 3,
      "outputs": [
        {
          "output_type": "stream",
          "name": "stdout",
          "text": [
            "Optimization terminated successfully.\n",
            "         Current function value: 34.000000   \n",
            "         Iterations: 3\n",
            "     con: array([], dtype=float64)\n",
            "     fun: 34.0\n",
            " message: 'Optimization terminated successfully.'\n",
            "     nit: 3\n",
            "   slack: array([0., 0.])\n",
            "  status: 0\n",
            " success: True\n",
            "       x: array([0., 2., 2.])\n"
          ]
        }
      ]
    },
    {
      "cell_type": "markdown",
      "source": [
        "# Branch-and-Bound\n",
        "\n",
        "**Exercício**\n",
        "\n",
        "min z = 4 x1 + 3x2\n",
        "\n",
        "8 x1 + 3 x2 ≥ 24\n",
        "\n",
        "5 x1 + 6 x2 ≥ 30\n",
        "\n",
        "x1 + 2 x2 ≥ 9\n",
        "\n",
        "x1 , x2 ≥ 0\n"
      ],
      "metadata": {
        "id": "j5DoY5kFB-aJ"
      }
    },
    {
      "cell_type": "code",
      "source": [
        "c = [4, 3] # coeficientes da função objetivo\n",
        "A = [[-8, -3],[-5,-6],[-1,-2]] #matriz de coeficientes das restrições\n",
        "b = [-24,-30,-9] #termos independentes \n",
        "\n",
        "\n",
        "x1_bounds = (0,float(\"inf\"))  # 0 <= x1 \n",
        "x2_bounds = (0,float(\"inf\"))  # 0 <= x2 \n",
        "\n",
        "\n",
        "# Método padrão: simplex.\n",
        "\n",
        "res = linprog(c, A_ub=A, b_ub=b, bounds=(x1_bounds, x2_bounds), method='simplex',\n",
        "               options={\"disp\": True})\n",
        "\n",
        "print(\"P1: \\n\",res)"
      ],
      "metadata": {
        "id": "vnvoyf5SCZNX",
        "outputId": "4304f014-e2a1-4c38-c561-bffc2cd638bc",
        "colab": {
          "base_uri": "https://localhost:8080/"
        }
      },
      "execution_count": 7,
      "outputs": [
        {
          "output_type": "stream",
          "name": "stdout",
          "text": [
            "Optimization terminated successfully.\n",
            "         Current function value: 17.538462   \n",
            "         Iterations: 3\n",
            "P1 \n",
            "      con: array([], dtype=float64)\n",
            "     fun: 17.53846153846154\n",
            " message: 'Optimization terminated successfully.'\n",
            "     nit: 3\n",
            "   slack: array([0.        , 0.23076923, 0.        ])\n",
            "  status: 0\n",
            " success: True\n",
            "       x: array([1.61538462, 3.69230769])\n"
          ]
        }
      ]
    },
    {
      "cell_type": "markdown",
      "source": [
        "   Vamos então vamos dividir em uma arvore o problema\n",
        "\n",
        "   \n",
        "        P1\n",
        "      /    \\\n",
        "    P2      P3"
      ],
      "metadata": {
        "id": "jV60h8r4j8zW"
      }
    },
    {
      "cell_type": "code",
      "source": [
        "# P2\n",
        "# min z = 4 x1 + 3x2\n",
        "\n",
        "# 8x1 + 3 x2 ≥ 24\n",
        "# 5x1 + 6 x2 ≥ 30\n",
        "#  x1 + 2 x2 ≥ 9\n",
        "#  x2 ≤ 3 \n",
        "\n",
        "#  x1 , x2 ≥ 0\n",
        "\n",
        "c = [4, 3] # coeficientes da função objetivo\n",
        "A = [[-8, -3],[-5,-6],[-1,-2],[0,1]] #matriz de coeficientes das restrições\n",
        "b = [-24,-30,-9,3] #termos independentes \n",
        "\n",
        "\n",
        "x1_bounds = (0,float(\"inf\"))  # 0 <= x1 \n",
        "x2_bounds = (0,float(\"inf\"))  # 0 <= x2 \n",
        "\n",
        "\n",
        "# Método padrão: simplex.\n",
        "\n",
        "res = linprog(c, A_ub=A, b_ub=b, bounds=(x1_bounds, x2_bounds), method='simplex',\n",
        "               options={\"disp\": True})\n",
        "\n",
        "print(\"P2: \\n\",res)\n",
        "\n",
        "\n",
        "\n",
        "\n",
        "# P3\n",
        "# min z = 4 x1 + 3x2\n",
        "\n",
        "# 8x1 + 3 x2 ≥ 24\n",
        "# 5x1 + 6 x2 ≥ 30\n",
        "#  x1 + 2 x2 ≥ 9\n",
        "#  x2 ≥ 3 \n",
        "\n",
        "#  x1 , x2 ≥ 0\n",
        "\n",
        "c = [4, 3] # coeficientes da função objetivo\n",
        "A = [[-8, -3],[-5,-6],[-1,-2],[0,-1]] #matriz de coeficientes das restrições\n",
        "b = [-24,-30,-9,-4] #termos independentes \n",
        "\n",
        "\n",
        "x1_bounds = (0,float(\"inf\"))  # 0 <= x1 \n",
        "x2_bounds = (0,float(\"inf\"))  # 0 <= x2 \n",
        "\n",
        "\n",
        "# Método padrão: simplex.\n",
        "\n",
        "res = linprog(c, A_ub=A, b_ub=b, bounds=(x1_bounds, x2_bounds), method='simplex',\n",
        "               options={\"disp\": True})\n",
        "\n",
        "print(\"P3: \\n\",res)"
      ],
      "metadata": {
        "id": "LNwhhEKyUoPL",
        "outputId": "4f093ff8-c988-4d35-d7b8-f95262401973",
        "colab": {
          "base_uri": "https://localhost:8080/"
        }
      },
      "execution_count": 10,
      "outputs": [
        {
          "output_type": "stream",
          "name": "stdout",
          "text": [
            "Optimization terminated successfully.\n",
            "         Current function value: 21.000000   \n",
            "         Iterations: 4\n",
            "P2: \n",
            "      con: array([], dtype=float64)\n",
            "     fun: 21.0\n",
            " message: 'Optimization terminated successfully.'\n",
            "     nit: 4\n",
            "   slack: array([9., 3., 0., 0.])\n",
            "  status: 0\n",
            " success: True\n",
            "       x: array([3., 3.])\n",
            "Optimization terminated successfully.\n",
            "         Current function value: 18.000000   \n",
            "         Iterations: 3\n",
            "P3: \n",
            "      con: array([], dtype=float64)\n",
            "     fun: 18.0\n",
            " message: 'Optimization terminated successfully.'\n",
            "     nit: 3\n",
            "   slack: array([0. , 1.5, 0.5, 0. ])\n",
            "  status: 0\n",
            " success: True\n",
            "       x: array([1.5, 4. ])\n"
          ]
        }
      ]
    },
    {
      "cell_type": "markdown",
      "source": [
        "Como o ramo do P2 já encontrou uma solução inteira vamos da continuidade no ramo da P3, continuando com a mesma restrição já vista no P3, porém adicionado mais algumas \n",
        "\n",
        "\n",
        "            P1\n",
        "          /    \\\n",
        "        P2     P3\n",
        "              /  \\\n",
        "            P4    P5 \n",
        "\n",
        "\n"
      ],
      "metadata": {
        "id": "Gc0eiKAmkqv0"
      }
    },
    {
      "cell_type": "code",
      "source": [
        "# P4\n",
        "# min z = 4 x1 + 3x2\n",
        "\n",
        "# 8x1 + 3 x2 ≥ 24\n",
        "# 5x1 + 6 x2 ≥ 30\n",
        "#  x1 + 2 x2 ≥ 9\n",
        "#  x2 ≥ 3 \n",
        "#  X1 <= 1\n",
        "#  x1 , x2 ≥ 0\n",
        "\n",
        "c = [4, 3] # coeficientes da função objetivo\n",
        "A = [[-8, -3],[-5,-6],[-1,-2],[0,-1],[1,0]] #matriz de coeficientes das restrições\n",
        "b = [-24,-30,-9,-4,1] #termos independentes \n",
        "\n",
        "\n",
        "x1_bounds = (0,float(\"inf\"))  # 0 <= x1 \n",
        "x2_bounds = (0,float(\"inf\"))  # 0 <= x2 \n",
        "\n",
        "\n",
        "# Método padrão: simplex.\n",
        "\n",
        "res = linprog(c, A_ub=A, b_ub=b, bounds=(x1_bounds, x2_bounds), method='simplex',\n",
        "               options={\"disp\": True})\n",
        "\n",
        "print(\"P4: \\n\",res)\n",
        "\n",
        "\n",
        "\n",
        "# P5\n",
        "# min z = 4 x1 + 3x2\n",
        "\n",
        "# 8x1 + 3 x2 ≥ 24\n",
        "# 5x1 + 6 x2 ≥ 30\n",
        "#  x1 + 2 x2 ≥ 9\n",
        "#  x2 ≥ 3 \n",
        "#  X1 >= 2\n",
        "#  x1 , x2 ≥ 0\n",
        "\n",
        "c = [4, 3] # coeficientes da função objetivo\n",
        "A = [[-8, -3],[-5,-6],[-1,-2],[0,-1],[-1,0]] #matriz de coeficientes das restrições\n",
        "b = [-24,-30,-9,-4,-2] #termos independentes \n",
        "\n",
        "\n",
        "x1_bounds = (0,float(\"inf\"))  # 0 <= x1 \n",
        "x2_bounds = (0,float(\"inf\"))  # 0 <= x2 \n",
        "\n",
        "\n",
        "# Método padrão: simplex.\n",
        "\n",
        "res = linprog(c, A_ub=A, b_ub=b, bounds=(x1_bounds, x2_bounds), method='simplex',\n",
        "               options={\"disp\": True})\n",
        "\n",
        "print(\"P5: \\n\",res)"
      ],
      "metadata": {
        "id": "hY7ZvEsgpP8z",
        "outputId": "0dcc5d5f-0b75-4d45-8c6b-e04112f57634",
        "colab": {
          "base_uri": "https://localhost:8080/"
        }
      },
      "execution_count": 12,
      "outputs": [
        {
          "output_type": "stream",
          "name": "stdout",
          "text": [
            "Optimization terminated successfully.\n",
            "         Current function value: 20.000000   \n",
            "         Iterations: 4\n",
            "P4: \n",
            "      con: array([], dtype=float64)\n",
            "     fun: 20.0\n",
            " message: 'Optimization terminated successfully.'\n",
            "     nit: 4\n",
            "   slack: array([0.        , 7.        , 2.66666667, 1.33333333, 0.        ])\n",
            "  status: 0\n",
            " success: True\n",
            "       x: array([1.        , 5.33333333])\n",
            "Optimization terminated successfully.\n",
            "         Current function value: 20.000000   \n",
            "         Iterations: 3\n",
            "P5: \n",
            "      con: array([], dtype=float64)\n",
            "     fun: 20.0\n",
            " message: 'Optimization terminated successfully.'\n",
            "     nit: 3\n",
            "   slack: array([4., 4., 1., 0., 0.])\n",
            "  status: 0\n",
            " success: True\n",
            "       x: array([2., 4.])\n"
          ]
        }
      ]
    },
    {
      "cell_type": "markdown",
      "source": [
        "        P1\n",
        "      /    \\\n",
        "    P2     P3\n",
        "          /  \\\n",
        "        P4    P5 \n",
        "       /  \\\n",
        "      P6   P7"
      ],
      "metadata": {
        "id": "zCiePIZj2-G6"
      }
    },
    {
      "cell_type": "code",
      "source": [
        "# P4\n",
        "# min z = 4 x1 + 3x2\n",
        "\n",
        "# 8x1 + 3 x2 ≥ 24\n",
        "# 5x1 + 6 x2 ≥ 30\n",
        "#  x1 + 2 x2 ≥ 9\n",
        "#  x2 ≥ 3 \n",
        "#  X1 <= 1\n",
        "#  X2 <= 5\n",
        "#  x1 , x2 ≥ 0\n",
        "\n",
        "c = [4, 3] # coeficientes da função objetivo\n",
        "A = [[-8, -3],[-5,-6],[-1,-2],[0,-1],[1,0],[0,1]] #matriz de coeficientes das restrições\n",
        "b = [-24,-30,-9,-4,1,5] #termos independentes \n",
        "\n",
        "\n",
        "x1_bounds = (0,float(\"inf\"))  # 0 <= x1 \n",
        "x2_bounds = (0,float(\"inf\"))  # 0 <= x2 \n",
        "\n",
        "\n",
        "# Método padrão: simplex.\n",
        "\n",
        "res = linprog(c, A_ub=A, b_ub=b, bounds=(x1_bounds, x2_bounds), method='simplex',\n",
        "               options={\"disp\": True})\n",
        "\n",
        "print(\"P6: \\n\",res)\n",
        "\n",
        "\n",
        "\n",
        "# P7\n",
        "# min z = 4 x1 + 3x2\n",
        "\n",
        "# 8x1 + 3 x2 ≥ 24\n",
        "# 5x1 + 6 x2 ≥ 30\n",
        "#  x1 + 2 x2 ≥ 9\n",
        "#  x2 ≥ 3 \n",
        "#  X1 <= 1\n",
        "#  X2 >= 6\n",
        "#  x1 , x2 ≥ 0\n",
        "\n",
        "c = [4, 3] # coeficientes da função objetivo\n",
        "A = [[-8, -3],[-5,-6],[-1,-2],[0,-1],[1,0],[0,-1]] #matriz de coeficientes das restrições\n",
        "b = [-24,-30,-9,-4,1,-6] #termos independentes \n",
        "\n",
        "\n",
        "x1_bounds = (0,float(\"inf\"))  # 0 <= x1 \n",
        "x2_bounds = (0,float(\"inf\"))  # 0 <= x2 \n",
        "\n",
        "\n",
        "# Método padrão: simplex.\n",
        "\n",
        "res = linprog(c, A_ub=A, b_ub=b, bounds=(x1_bounds, x2_bounds), method='simplex',\n",
        "               options={\"disp\": True})\n",
        "\n",
        "print(\"P7: \\n\",res)\n"
      ],
      "metadata": {
        "id": "3Jdf06JH3KaI",
        "outputId": "f94635d5-773d-4979-fc30-7f2aedc8b2ac",
        "colab": {
          "base_uri": "https://localhost:8080/"
        }
      },
      "execution_count": 13,
      "outputs": [
        {
          "output_type": "stream",
          "name": "stdout",
          "text": [
            "Phase 1 of the simplex method failed to find a feasible solution. The pseudo-objective function evaluates to 1.0e+00 which exceeds the required tolerance of 1e-09 for a solution to be considered 'close enough' to zero to be a basic solution. Consider increasing the tolerance to be greater than 1.0e+00. If this tolerance is unacceptably  large the problem may be infeasible.\n",
            "         Iterations: 5\n",
            "P6: \n",
            "      con: array([], dtype=float64)\n",
            "     fun: 19.0\n",
            " message: \"Phase 1 of the simplex method failed to find a feasible solution. The pseudo-objective function evaluates to 1.0e+00 which exceeds the required tolerance of 1e-09 for a solution to be considered 'close enough' to zero to be a basic solution. Consider increasing the tolerance to be greater than 1.0e+00. If this tolerance is unacceptably  large the problem may be infeasible.\"\n",
            "     nit: 5\n",
            "   slack: array([-1.,  5.,  2.,  1.,  0.,  0.])\n",
            "  status: 2\n",
            " success: False\n",
            "       x: array([1., 5.])\n",
            "Optimization terminated successfully.\n",
            "         Current function value: 21.000000   \n",
            "         Iterations: 4\n",
            "P7: \n",
            "      con: array([], dtype=float64)\n",
            "     fun: 21.0\n",
            " message: 'Optimization terminated successfully.'\n",
            "     nit: 4\n",
            "   slack: array([0.  , 9.75, 3.75, 2.  , 0.25, 0.  ])\n",
            "  status: 0\n",
            " success: True\n",
            "       x: array([0.75, 6.  ])\n"
          ]
        }
      ]
    },
    {
      "cell_type": "markdown",
      "source": [
        "            P1\n",
        "          /    \\\n",
        "        P2     P3\n",
        "              /  \\\n",
        "            P4    P5 \n",
        "          /  \\\n",
        "          P6   P7\n",
        "              /  \\\n",
        "             P8  P9 \n",
        "              "
      ],
      "metadata": {
        "id": "k89nBNlH4QyJ"
      }
    },
    {
      "cell_type": "code",
      "source": [
        "# P8\n",
        "# min z = 4 x1 + 3x2\n",
        "\n",
        "# 8x1 + 3 x2 ≥ 24\n",
        "# 5x1 + 6 x2 ≥ 30\n",
        "#  x1 + 2 x2 ≥ 9\n",
        "#  x2 ≥ 3 \n",
        "#  X1 <= 1\n",
        "#  X2 >= 6\n",
        "#  X1 <= 0\n",
        "#  x1 , x2 ≥ 0\n",
        "\n",
        "c = [4, 3] # coeficientes da função objetivo\n",
        "A = [[-8, -3],[-5,-6],[-1,-2],[0,-1],[1,0],[0,-1],[1,0]] #matriz de coeficientes das restrições\n",
        "b = [-24,-30,-9,-4,1,-6,0] #termos independentes \n",
        "\n",
        "\n",
        "x1_bounds = (0,float(\"inf\"))  # 0 <= x1 \n",
        "x2_bounds = (0,float(\"inf\"))  # 0 <= x2 \n",
        "\n",
        "\n",
        "# Método padrão: simplex.\n",
        "\n",
        "res = linprog(c, A_ub=A, b_ub=b, bounds=(x1_bounds, x2_bounds), method='simplex',\n",
        "               options={\"disp\": True})\n",
        "\n",
        "print(\"P8: \\n\",res)\n",
        "\n",
        "\n",
        "# P9\n",
        "# min z = 4 x1 + 3x2\n",
        "\n",
        "# 8x1 + 3 x2 ≥ 24\n",
        "# 5x1 + 6 x2 ≥ 30\n",
        "#  x1 + 2 x2 ≥ 9\n",
        "#  x2 ≥ 3 \n",
        "#  X1 <= 1\n",
        "#  X2 >= 6\n",
        "#  X1 >= 1\n",
        "#  x1 , x2 ≥ 0\n",
        "\n",
        "c = [4, 3] # coeficientes da função objetivo\n",
        "A = [[-8, -3],[-5,-6],[-1,-2],[0,-1],[1,0],[0,-1],[-1,0]] #matriz de coeficientes das restrições\n",
        "b = [-24,-30,-9,-4,1,-6,-1] #termos independentes \n",
        "\n",
        "\n",
        "x1_bounds = (0,float(\"inf\"))  # 0 <= x1 \n",
        "x2_bounds = (0,float(\"inf\"))  # 0 <= x2 \n",
        "\n",
        "\n",
        "# Método padrão: simplex.\n",
        "\n",
        "res = linprog(c, A_ub=A, b_ub=b, bounds=(x1_bounds, x2_bounds), method='simplex',\n",
        "               options={\"disp\": True})\n",
        "\n",
        "print(\"P9: \\n\",res)\n"
      ],
      "metadata": {
        "id": "KG_e1dX84bWk",
        "outputId": "1414a7ea-183f-4594-d42f-fd502934805f",
        "colab": {
          "base_uri": "https://localhost:8080/"
        }
      },
      "execution_count": 15,
      "outputs": [
        {
          "output_type": "stream",
          "name": "stdout",
          "text": [
            "Optimization terminated successfully.\n",
            "         Current function value: 24.000000   \n",
            "         Iterations: 3\n",
            "P8: \n",
            "      con: array([], dtype=float64)\n",
            "     fun: 24.0\n",
            " message: 'Optimization terminated successfully.'\n",
            "     nit: 3\n",
            "   slack: array([ 0., 18.,  7.,  4.,  1.,  2.,  0.])\n",
            "  status: 0\n",
            " success: True\n",
            "       x: array([0., 8.])\n",
            "Optimization terminated successfully.\n",
            "         Current function value: 22.000000   \n",
            "         Iterations: 3\n",
            "P9: \n",
            "      con: array([], dtype=float64)\n",
            "     fun: 22.0\n",
            " message: 'Optimization terminated successfully.'\n",
            "     nit: 3\n",
            "   slack: array([ 2., 11.,  4.,  2.,  0.,  0.,  0.])\n",
            "  status: 0\n",
            " success: True\n",
            "       x: array([1., 6.])\n"
          ]
        }
      ]
    }
  ]
}